{
  "nbformat": 4,
  "nbformat_minor": 0,
  "metadata": {
    "colab": {
      "provenance": []
    },
    "kernelspec": {
      "name": "python3",
      "display_name": "Python 3"
    },
    "language_info": {
      "name": "python"
    }
  },
  "cells": [
    {
      "cell_type": "code",
      "execution_count": 1,
      "metadata": {
        "id": "g-En9kS1qqaX",
        "colab": {
          "base_uri": "https://localhost:8080/"
        },
        "outputId": "e2dcd237-5931-465e-b651-3cbce5e33c95"
      },
      "outputs": [
        {
          "output_type": "stream",
          "name": "stdout",
          "text": [
            "Collecting xlsxwriter\n",
            "  Downloading XlsxWriter-3.2.2-py3-none-any.whl.metadata (2.8 kB)\n",
            "Downloading XlsxWriter-3.2.2-py3-none-any.whl (165 kB)\n",
            "\u001b[2K   \u001b[90m━━━━━━━━━━━━━━━━━━━━━━━━━━━━━━━━━━━━━━━━\u001b[0m \u001b[32m165.1/165.1 kB\u001b[0m \u001b[31m5.7 MB/s\u001b[0m eta \u001b[36m0:00:00\u001b[0m\n",
            "\u001b[?25hInstalling collected packages: xlsxwriter\n",
            "Successfully installed xlsxwriter-3.2.2\n",
            "Mean Absolute Error: 2.9188856355602915\n",
            "Mean Squared Error: 25.656872909946767\n",
            "R-squared: 0.9923739225306538\n"
          ]
        },
        {
          "output_type": "stream",
          "name": "stderr",
          "text": [
            "/usr/local/lib/python3.11/dist-packages/sklearn/utils/validation.py:1408: DataConversionWarning: A column-vector y was passed when a 1d array was expected. Please change the shape of y to (n_samples, ), for example using ravel().\n",
            "  y = column_or_1d(y, warn=True)\n"
          ]
        }
      ],
      "source": [
        "import pandas as pd\n",
        "from sklearn.model_selection import train_test_split\n",
        "from sklearn.svm import SVR\n",
        "from sklearn.preprocessing import StandardScaler\n",
        "from sklearn.metrics import mean_absolute_error, mean_squared_error, r2_score\n",
        "from sklearn.model_selection import GridSearchCV\n",
        "df = pd.read_excel('/content/Honeywell.xlsx',sheet_name='ARD_COMBINED')\n",
        "!pip install xlsxwriter\n",
        "\n",
        "x= df.iloc[:,[1]]\n",
        "y = df.iloc[:,[0]]\n",
        "from sklearn.model_selection import train_test_split\n",
        "\n",
        "x_train, x_test, y_train, y_test = train_test_split(x,y, test_size=0.2, random_state=42)\n",
        "\n",
        "scaler = StandardScaler()\n",
        "x_train_scaled = scaler.fit_transform(x_train)\n",
        "x_scaled = scaler.transform(x)\n",
        "\n",
        "svr = SVR(kernel='rbf', C=100, epsilon=0.1)\n",
        "svr.fit(x_train_scaled, y_train)\n",
        "y_pred = svr.predict(x_scaled)\n",
        "y_pred_df = pd.DataFrame(y_pred, columns=y_test.columns)\n",
        "\n",
        "from sklearn.metrics import mean_absolute_error, mean_squared_error, r2_score\n",
        "\n",
        "\n",
        "mae1 = mean_absolute_error(y, y_pred)\n",
        "mse1 = mean_squared_error(y, y_pred)\n",
        "r2_1 = r2_score(y, y_pred)\n",
        "\n",
        "print(\"Mean Absolute Error:\", mae1)\n",
        "print(\"Mean Squared Error:\", mse1)\n",
        "print(\"R-squared:\", r2_1)\n",
        "\n",
        "file_name = 'Honeywell(COMBINED)_ard.xlsx'\n",
        "metrics_df_1 = pd.DataFrame({\n",
        "    \"Metric\": [\"Mean Absolute Error\", \"Mean Squared Error\", \"R-squared\"],\n",
        "    \"Value\": [mae1, mse1, r2_1]\n",
        "    })\n",
        "final_df_1 = pd.concat([y_pred_df, metrics_df_1], ignore_index=True)\n",
        "final_df_1.to_excel(file_name, sheet_name=\"Results\", index=False)"
      ]
    },
    {
      "cell_type": "markdown",
      "source": [],
      "metadata": {
        "id": "rDvhDX5NmXec"
      }
    }
  ]
}