{
  "nbformat": 4,
  "nbformat_minor": 0,
  "metadata": {
    "colab": {
      "provenance": []
    },
    "kernelspec": {
      "name": "python3",
      "display_name": "Python 3"
    },
    "language_info": {
      "name": "python"
    }
  },
  "cells": [
    {
      "cell_type": "code",
      "execution_count": 1,
      "metadata": {
        "id": "UaLEvSwb4jv_",
        "colab": {
          "base_uri": "https://localhost:8080/"
        },
        "outputId": "bedb924b-22e9-43a3-d07c-212f377dd601"
      },
      "outputs": [
        {
          "output_type": "stream",
          "name": "stdout",
          "text": [
            "Collecting xlsxwriter\n",
            "  Downloading XlsxWriter-3.2.2-py3-none-any.whl.metadata (2.8 kB)\n",
            "Downloading XlsxWriter-3.2.2-py3-none-any.whl (165 kB)\n",
            "\u001b[?25l   \u001b[90m━━━━━━━━━━━━━━━━━━━━━━━━━━━━━━━━━━━━━━━━\u001b[0m \u001b[32m0.0/165.1 kB\u001b[0m \u001b[31m?\u001b[0m eta \u001b[36m-:--:--\u001b[0m\r\u001b[2K   \u001b[91m━━━━━━━━━━━━━━━━━━━━━━━━━━━━━━━━━━━━━━━\u001b[0m\u001b[91m╸\u001b[0m \u001b[32m163.8/165.1 kB\u001b[0m \u001b[31m4.8 MB/s\u001b[0m eta \u001b[36m0:00:01\u001b[0m\r\u001b[2K   \u001b[90m━━━━━━━━━━━━━━━━━━━━━━━━━━━━━━━━━━━━━━━━\u001b[0m \u001b[32m165.1/165.1 kB\u001b[0m \u001b[31m3.6 MB/s\u001b[0m eta \u001b[36m0:00:00\u001b[0m\n",
            "\u001b[?25hInstalling collected packages: xlsxwriter\n",
            "Successfully installed xlsxwriter-3.2.2\n",
            "Mean Absolute Error: 18.27780170384106\n",
            "Mean Squared Error: 386.1501083994961\n",
            "R-squared: 0.7026368997735858\n",
            "Mean Absolute Error: 12.905757392730793\n",
            "Mean Squared Error: 327.90892365338294\n",
            "R-squared: 0.7474867622499837\n",
            "Mean Absolute Error: 9.844705681424431\n",
            "Mean Squared Error: 140.5662651101555\n",
            "R-squared: 0.8917539592215781\n",
            "Mean Absolute Error: 6.94785988924712\n",
            "Mean Squared Error: 54.43805273296258\n",
            "R-squared: 0.9580788201819811\n"
          ]
        },
        {
          "output_type": "stream",
          "name": "stderr",
          "text": [
            "/usr/local/lib/python3.11/dist-packages/sklearn/utils/validation.py:1408: DataConversionWarning: A column-vector y was passed when a 1d array was expected. Please change the shape of y to (n_samples, ), for example using ravel().\n",
            "  y = column_or_1d(y, warn=True)\n",
            "/usr/local/lib/python3.11/dist-packages/sklearn/utils/validation.py:1408: DataConversionWarning: A column-vector y was passed when a 1d array was expected. Please change the shape of y to (n_samples, ), for example using ravel().\n",
            "  y = column_or_1d(y, warn=True)\n",
            "/usr/local/lib/python3.11/dist-packages/sklearn/utils/validation.py:1408: DataConversionWarning: A column-vector y was passed when a 1d array was expected. Please change the shape of y to (n_samples, ), for example using ravel().\n",
            "  y = column_or_1d(y, warn=True)\n",
            "/usr/local/lib/python3.11/dist-packages/sklearn/utils/validation.py:1408: DataConversionWarning: A column-vector y was passed when a 1d array was expected. Please change the shape of y to (n_samples, ), for example using ravel().\n",
            "  y = column_or_1d(y, warn=True)\n"
          ]
        }
      ],
      "source": [
        "import pandas as pd\n",
        "from sklearn.model_selection import train_test_split\n",
        "from sklearn.svm import SVR\n",
        "from sklearn.preprocessing import StandardScaler\n",
        "from sklearn.metrics import mean_absolute_error, mean_squared_error, r2_score\n",
        "from sklearn.model_selection import GridSearchCV\n",
        "df = pd.read_excel('/content/Sharp.xlsx',sheet_name='INCENSE')\n",
        "!pip install xlsxwriter\n",
        "y1 = df.iloc[:,[0]]\n",
        "y2 = df.iloc[:,[0]]\n",
        "y3 = df.iloc[:,[0]]\n",
        "y4 = df.iloc[:,[0]]\n",
        "# y5 = df.iloc[:,[0]]\n",
        "x1 = df.iloc[:,[1]]\n",
        "x2 = df.iloc[:,[2]]\n",
        "x3 = df.iloc[:,[3]]\n",
        "x4 = df.iloc[:,[4]]\n",
        "# x5 = df.iloc[:,[5]]\n",
        "x1_train, x1_test, y1_train, y1_test = train_test_split(x1,y1, test_size=0.2, random_state=42)\n",
        "x2_train, x2_test, y2_train, y2_test = train_test_split(x2,y2, test_size=0.2, random_state=42)\n",
        "x3_train, x3_test, y3_train, y3_test = train_test_split(x3,y3, test_size=0.2, random_state=42)\n",
        "x4_train, x4_test, y4_train, y4_test = train_test_split(x4,y4, test_size=0.2, random_state=42)\n",
        "# x5_train, x5_test, y5_train, y5_test = train_test_split(x5,y5, test_size=0.2, random_state=42)\n",
        "\n",
        "scaler1 = StandardScaler()\n",
        "x1_train_scaled = scaler1.fit_transform(x1_train)\n",
        "x1_test_scaled = scaler1.transform(x1_test)\n",
        "\n",
        "scaler2 = StandardScaler()\n",
        "x2_train_scaled = scaler2.fit_transform(x2_train)\n",
        "x2_test_scaled = scaler2.transform(x2_test)\n",
        "\n",
        "scaler3 = StandardScaler()\n",
        "x3_train_scaled = scaler3.fit_transform(x3_train)\n",
        "x3_test_scaled = scaler3.transform(x3_test)\n",
        "\n",
        "scaler4 = StandardScaler()\n",
        "x4_train_scaled = scaler4.fit_transform(x4_train)\n",
        "x4_test_scaled = scaler4.transform(x4_test)\n",
        "\n",
        "# scaler5 = StandardScaler()\n",
        "# x5_train_scaled = scaler5.fit_transform(x5_train)\n",
        "# x5_test_scaled = scaler5.transform(x5_test)\n",
        "\n",
        "svr1 = SVR(kernel='rbf', C=1000, epsilon=0.1)\n",
        "svr2 = SVR(kernel='rbf', C=1000, epsilon=0.1)\n",
        "svr3 = SVR(kernel='rbf', C=1000, epsilon=0.1)\n",
        "svr4 = SVR(kernel='rbf', C=1000, epsilon=0.1)\n",
        "# svr5 = SVR(kernel='rbf', C=1000, epsilon=0.1)\n",
        "\n",
        "svr1.fit(x1_train_scaled, y1_train)\n",
        "svr2.fit(x2_train_scaled, y2_train)\n",
        "svr3.fit(x3_train_scaled, y3_train)\n",
        "svr4.fit(x4_train_scaled, y4_train)\n",
        "# svr5.fit(x5_train, y5_train)\n",
        "\n",
        "\n",
        "y1_pred = svr1.predict(x1_test_scaled)\n",
        "y2_pred = svr2.predict(x2_test_scaled)\n",
        "y3_pred = svr3.predict(x3_test_scaled)\n",
        "y4_pred = svr4.predict(x4_test_scaled)\n",
        "# y5_pred = svr5.predict(x5_test_scaled)\n",
        "\n",
        "y1_pred_df = pd.DataFrame(y1_pred, columns=y1_test.columns)\n",
        "y2_pred_df = pd.DataFrame(y2_pred, columns=y2_test.columns)\n",
        "y3_pred_df = pd.DataFrame(y3_pred, columns=y3_test.columns)\n",
        "y4_pred_df = pd.DataFrame(y4_pred, columns=y4_test.columns)\n",
        "# y5_pred_df = pd.DataFrame(y5_pred, columns=y4_test.columns)\n",
        "\n",
        "mae1 = mean_absolute_error(y1_test, y1_pred)\n",
        "mse1 = mean_squared_error(y1_test, y1_pred)\n",
        "r2_1 = r2_score(y1_test, y1_pred)\n",
        "\n",
        "print(\"Mean Absolute Error:\", mae1)\n",
        "print(\"Mean Squared Error:\", mse1)\n",
        "print(\"R-squared:\", r2_1)\n",
        "\n",
        "mae2 = mean_absolute_error(y2_test, y2_pred)\n",
        "mse2 = mean_squared_error(y2_test, y2_pred)\n",
        "r2_2 = r2_score(y2_test, y2_pred)\n",
        "\n",
        "print(\"Mean Absolute Error:\", mae2)\n",
        "print(\"Mean Squared Error:\", mse2)\n",
        "print(\"R-squared:\", r2_2)\n",
        "\n",
        "mae3 = mean_absolute_error(y3_test, y3_pred)\n",
        "mse3 = mean_squared_error(y3_test, y3_pred)\n",
        "r2_3 = r2_score(y3_test, y3_pred)\n",
        "\n",
        "print(\"Mean Absolute Error:\", mae3)\n",
        "print(\"Mean Squared Error:\", mse3)\n",
        "print(\"R-squared:\", r2_3)\n",
        "\n",
        "mae4 = mean_absolute_error(y4_test, y4_pred)\n",
        "mse4 = mean_squared_error(y4_test, y4_pred)\n",
        "r2_4 = r2_score(y4_test, y4_pred)\n",
        "\n",
        "print(\"Mean Absolute Error:\", mae4)\n",
        "print(\"Mean Squared Error:\", mse4)\n",
        "print(\"R-squared:\", r2_4)\n",
        "\n",
        "# mae5 = mean_absolute_error(y5_test, y5_pred)\n",
        "# mse5 = mean_squared_error(y5_test, y5_pred)\n",
        "# r2_5 = r2_score(y5_test, y5_pred)\n",
        "\n",
        "# print(\"Mean Absolute Error:\", mae5)\n",
        "# print(\"Mean Squared Error:\", mse5)\n",
        "# print(\"R-squared:\", r2_5)\n",
        "\n",
        "file_name = 'Sharp_Incense(1v1).xlsx'\n",
        "\n",
        "# Create an Excel writer object\n",
        "with pd.ExcelWriter(file_name, engine='xlsxwriter') as writer:\n",
        "\n",
        "    # Write the first sheet\n",
        "    y1_pred_df.to_excel(writer, sheet_name=\"Predictions1\", index=False)\n",
        "    pd.DataFrame({\n",
        "        \"Metric\": [\"Mean Absolute Error\", \"Mean Squared Error\", \"R-squared\"],\n",
        "        \"Value\": [mae1, mse1, r2_1]\n",
        "    }).to_excel(writer, sheet_name=\"Metrics1\", index=False)\n",
        "\n",
        "    # Write the second sheet\n",
        "    y2_pred_df.to_excel(writer, sheet_name=\"Predictions2\", index=False)\n",
        "    pd.DataFrame({\n",
        "        \"Metric\": [\"Mean Absolute Error\", \"Mean Squared Error\", \"R-squared\"],\n",
        "        \"Value\": [mae2, mse2, r2_2]\n",
        "    }).to_excel(writer, sheet_name=\"Metrics2\", index=False)\n",
        "\n",
        "    # Write the third sheet\n",
        "    y3_pred_df.to_excel(writer, sheet_name=\"Predictions3\", index=False)\n",
        "    pd.DataFrame({\n",
        "        \"Metric\": [\"Mean Absolute Error\", \"Mean Squared Error\", \"R-squared\"],\n",
        "        \"Value\": [mae3, mse3, r2_3]\n",
        "    }).to_excel(writer, sheet_name=\"Metrics3\", index=False)\n",
        "\n",
        "    # Write the fourth sheet\n",
        "    y4_pred_df.to_excel(writer, sheet_name=\"Predictions4\", index=False)\n",
        "    pd.DataFrame({\n",
        "        \"Metric\": [\"Mean Absolute Error\", \"Mean Squared Error\", \"R-squared\"],\n",
        "        \"Value\": [mae4, mse4, r2_4]\n",
        "    }).to_excel(writer, sheet_name=\"Metrics4\", index=False)\n",
        "\n",
        "    # y5_pred_df.to_excel(writer, sheet_name=\"Predictions5\", index=False)\n",
        "    # pd.DataFrame({\n",
        "    #     \"Metric\": [\"Mean Absolute Error\", \"Mean Squared Error\", \"R-squared\"],\n",
        "    #     \"Value\": [mae5, mse5, r2_5]\n",
        "    # }).to_excel(writer, sheet_name=\"Metrics5\", index=False)\n",
        "\n"
      ]
    },
    {
      "cell_type": "code",
      "source": [],
      "metadata": {
        "id": "EDNM-8bWcZgV"
      },
      "execution_count": null,
      "outputs": []
    },
    {
      "cell_type": "code",
      "source": [],
      "metadata": {
        "colab": {
          "base_uri": "https://localhost:8080/"
        },
        "id": "xLHRMTfbg5Ri",
        "outputId": "91aabb9b-b40d-4346-930d-1fd00ebe7e63"
      },
      "execution_count": null,
      "outputs": [
        {
          "output_type": "stream",
          "name": "stdout",
          "text": [
            "Mean Absolute Error: 18.27780170384106\n",
            "Mean Squared Error: 386.1501083994961\n",
            "R-squared: 0.7026368997735858\n",
            "Mean Absolute Error: 12.905757392730793\n",
            "Mean Squared Error: 327.90892365338294\n",
            "R-squared: 0.7474867622499837\n",
            "Mean Absolute Error: 9.844705681424431\n",
            "Mean Squared Error: 140.5662651101555\n",
            "R-squared: 0.8917539592215781\n",
            "Mean Absolute Error: 6.94785988924712\n",
            "Mean Squared Error: 54.43805273296258\n",
            "R-squared: 0.9580788201819811\n"
          ]
        },
        {
          "output_type": "stream",
          "name": "stderr",
          "text": [
            "/usr/local/lib/python3.11/dist-packages/sklearn/utils/validation.py:1408: DataConversionWarning: A column-vector y was passed when a 1d array was expected. Please change the shape of y to (n_samples, ), for example using ravel().\n",
            "  y = column_or_1d(y, warn=True)\n",
            "/usr/local/lib/python3.11/dist-packages/sklearn/utils/validation.py:1408: DataConversionWarning: A column-vector y was passed when a 1d array was expected. Please change the shape of y to (n_samples, ), for example using ravel().\n",
            "  y = column_or_1d(y, warn=True)\n",
            "/usr/local/lib/python3.11/dist-packages/sklearn/utils/validation.py:1408: DataConversionWarning: A column-vector y was passed when a 1d array was expected. Please change the shape of y to (n_samples, ), for example using ravel().\n",
            "  y = column_or_1d(y, warn=True)\n",
            "/usr/local/lib/python3.11/dist-packages/sklearn/utils/validation.py:1408: DataConversionWarning: A column-vector y was passed when a 1d array was expected. Please change the shape of y to (n_samples, ), for example using ravel().\n",
            "  y = column_or_1d(y, warn=True)\n"
          ]
        }
      ]
    },
    {
      "cell_type": "code",
      "source": [],
      "metadata": {
        "id": "a1zzPkc3yGwE"
      },
      "execution_count": null,
      "outputs": []
    },
    {
      "cell_type": "code",
      "source": [
        "# # import pandas as pd\n",
        "\n",
        "# # Define the Excel file name\n",
        "\n",
        "\n",
        "#     y5_pred_df.to_excel(writer, sheet_name=\"Predictions5\", index=False)\n",
        "#     pd.DataFrame({\n",
        "#         \"Metric\": [\"Mean Absolute Error\", \"Mean Squared Error\", \"R-squared\"],\n",
        "#         \"Value\": [mae5, mse5, r2_5]\n",
        "#     }).to_excel(writer, sheet_name=\"Metrics5\", index=False)\n",
        "\n",
        "\n",
        "# print(\"Excel file created successfully with multiple sheets!\")"
      ],
      "metadata": {
        "id": "mcpAIGeIR5gx"
      },
      "execution_count": null,
      "outputs": []
    }
  ]
}